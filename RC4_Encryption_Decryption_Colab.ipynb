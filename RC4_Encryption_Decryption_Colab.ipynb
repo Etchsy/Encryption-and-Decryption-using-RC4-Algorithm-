{
  "cells": [
    {
      "cell_type": "markdown",
      "metadata": {
        "id": "dylOjvEg6FNp"
      },
      "source": [
        "# 💻 RC4 Encryption and Decryption using Python\n",
        "Mini Project for Computer Communication Networks  \n",
        "**Submitted by:** Jitin Nair  \n",
        "**College:** SRM Institute of Science and Technology"
      ],
      "id": "dylOjvEg6FNp"
    },
    {
      "cell_type": "code",
      "execution_count": null,
      "metadata": {
        "id": "o9uW5fzb6FNq"
      },
      "outputs": [],
      "source": [
        "def KSA(key):\n",
        "    key_length = len(key)\n",
        "    S = list(range(256))\n",
        "    j = 0\n",
        "    for i in range(256):\n",
        "        j = (j + S[i] + ord(key[i % key_length])) % 256\n",
        "        S[i], S[j] = S[j], S[i]\n",
        "    return S\n",
        "\n",
        "def PRGA(S):\n",
        "    i = 0\n",
        "    j = 0\n",
        "    while True:\n",
        "        i = (i + 1) % 256\n",
        "        j = (j + S[i]) % 256\n",
        "        S[i], S[j] = S[j], S[i]\n",
        "        K = S[(S[i] + S[j]) % 256]\n",
        "        yield K\n",
        "\n",
        "def RC4(key, plaintext):\n",
        "    S = KSA(key)\n",
        "    keystream = PRGA(S)\n",
        "    ciphertext = [chr(ord(c) ^ next(keystream)) for c in plaintext]\n",
        "    return ''.join(ciphertext)"
      ],
      "id": "o9uW5fzb6FNq"
    },
    {
      "cell_type": "code",
      "execution_count": null,
      "metadata": {
        "colab": {
          "base_uri": "https://localhost:8080/"
        },
        "id": "4oKpbo4p6FNr",
        "outputId": "1956791c-fd8c-41d8-f817-87cb6e826ca7"
      },
      "outputs": [
        {
          "output_type": "stream",
          "name": "stdout",
          "text": [
            "Enter the key: jjjrrrnnn\n",
            "Enter the plaintext: jrn\n",
            "Encrypted (ciphertext): Ëé\n"
          ]
        }
      ],
      "source": [
        "key = input(\"Enter the key: \")\n",
        "plaintext = input(\"Enter the plaintext: \")\n",
        "\n",
        "ciphertext = RC4(key, plaintext)\n",
        "print(\"Encrypted (ciphertext):\", ciphertext)"
      ],
      "id": "4oKpbo4p6FNr"
    },
    {
      "cell_type": "code",
      "execution_count": null,
      "metadata": {
        "colab": {
          "base_uri": "https://localhost:8080/"
        },
        "id": "ZC6IeQhW6FNr",
        "outputId": "ba76ddec-0b3d-4804-be6c-7e497fb9a002"
      },
      "outputs": [
        {
          "output_type": "stream",
          "name": "stdout",
          "text": [
            "Enter the key to decrypt: abc\n",
            "Decrypted (original plaintext): \u0006\u00010\n"
          ]
        }
      ],
      "source": [
        "decryption_key = input(\"Enter the key to decrypt: \")\n",
        "decrypted = RC4(decryption_key, ciphertext)\n",
        "print(\"Decrypted (original plaintext):\", decrypted)\n"
      ],
      "id": "ZC6IeQhW6FNr"
    },
    {
      "cell_type": "code",
      "execution_count": null,
      "metadata": {
        "colab": {
          "base_uri": "https://localhost:8080/"
        },
        "id": "ougEk2406FNr",
        "outputId": "7afb6525-f5dd-4ee7-bc29-fa08ea42a946"
      },
      "outputs": [
        {
          "output_type": "stream",
          "name": "stdout",
          "text": [
            "Original: hello world\n",
            "Encrypted: óâÔl-0ß¢\n",
            "Decrypted: hello world\n"
          ]
        }
      ],
      "source": [
        "# Example to test the flow\n",
        "sample_key = \"key123\"\n",
        "sample_text = \"hello world\"\n",
        "\n",
        "print(\"Original:\", sample_text)\n",
        "encrypted = RC4(sample_key, sample_text)\n",
        "print(\"Encrypted:\", encrypted)\n",
        "decrypted = RC4(sample_key, encrypted)\n",
        "print(\"Decrypted:\", decrypted)"
      ],
      "id": "ougEk2406FNr"
    },
    {
      "cell_type": "code",
      "execution_count": null,
      "metadata": {
        "id": "phC9-A-26FNs"
      },
      "outputs": [],
      "source": [
        "with open(\"rc4_output.txt\", \"w\") as f:\n",
        "    f.write(f\"Key: {key}\\n\")\n",
        "    f.write(f\"Plaintext: {plaintext}\\n\")\n",
        "    f.write(f\"Ciphertext: {ciphertext}\\n\")\n",
        "    f.write(f\"Decrypted: {decrypted}\\n\")"
      ],
      "id": "phC9-A-26FNs"
    },
    {
      "cell_type": "code",
      "source": [],
      "metadata": {
        "id": "309-XLTK6U6j"
      },
      "id": "309-XLTK6U6j",
      "execution_count": null,
      "outputs": []
    }
  ],
  "metadata": {
    "kernelspec": {
      "display_name": "Python 3",
      "language": "python",
      "name": "python3"
    },
    "language_info": {
      "name": "python",
      "version": "3.8"
    },
    "colab": {
      "provenance": []
    }
  },
  "nbformat": 4,
  "nbformat_minor": 5
}